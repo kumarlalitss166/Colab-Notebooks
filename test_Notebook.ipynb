{
  "nbformat": 4,
  "nbformat_minor": 0,
  "metadata": {
    "colab": {
      "provenance": [],
      "toc_visible": true,
      "authorship_tag": "ABX9TyOsqPJaaamEucj9LP6QcxyG"
    },
    "kernelspec": {
      "name": "python3",
      "display_name": "Python 3"
    },
    "language_info": {
      "name": "python"
    }
  },
  "cells": [
    {
      "cell_type": "code",
      "execution_count": null,
      "metadata": {
        "id": "LJlbp9GOswPL"
      },
      "outputs": [],
      "source": [
        "print('hello lalit! hru?')"
      ]
    },
    {
      "cell_type": "code",
      "source": [
        "print('Its too late to sleep man :)')"
      ],
      "metadata": {
        "id": "4gVlsNShucFi",
        "outputId": "badb420a-ede2-4e52-9a55-846901c087f8",
        "colab": {
          "base_uri": "https://localhost:8080/"
        }
      },
      "execution_count": 2,
      "outputs": [
        {
          "output_type": "stream",
          "name": "stdout",
          "text": [
            "Its too late to sleep man :)\n"
          ]
        }
      ]
    }
  ]
}