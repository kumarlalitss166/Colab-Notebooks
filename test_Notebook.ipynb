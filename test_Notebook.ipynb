{
  "nbformat": 4,
  "nbformat_minor": 0,
  "metadata": {
    "colab": {
      "provenance": [],
      "toc_visible": true,
      "authorship_tag": "ABX9TyP1kfjpbFFF6f3n/pbGwoO0"
    },
    "kernelspec": {
      "name": "python3",
      "display_name": "Python 3"
    },
    "language_info": {
      "name": "python"
    }
  },
  "cells": [
    {
      "cell_type": "code",
      "execution_count": null,
      "metadata": {
        "id": "LJlbp9GOswPL"
      },
      "outputs": [],
      "source": [
        "print('hello lalit! hru?')"
      ]
    },
    {
      "cell_type": "code",
      "source": [
        "print('Its too late to sleep man :)')"
      ],
      "metadata": {
        "colab": {
          "base_uri": "https://localhost:8080/"
        },
        "id": "4gVlsNShucFi",
        "outputId": "badb420a-ede2-4e52-9a55-846901c087f8"
      },
      "execution_count": 2,
      "outputs": [
        {
          "output_type": "stream",
          "name": "stdout",
          "text": [
            "Its too late to sleep man :)\n"
          ]
        }
      ]
    },
    {
      "cell_type": "code",
      "source": [
        "print('I should go to sleep soon.')"
      ],
      "metadata": {
        "id": "9R3E3fCcuwGX",
        "outputId": "c80c1f7e-b8f9-4dcd-a7e9-d2daf1a999f5",
        "colab": {
          "base_uri": "https://localhost:8080/"
        }
      },
      "execution_count": 3,
      "outputs": [
        {
          "output_type": "stream",
          "name": "stdout",
          "text": [
            "I should go to sleep soon.\n"
          ]
        }
      ]
    }
  ]
}