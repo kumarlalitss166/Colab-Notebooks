{
  "nbformat": 4,
  "nbformat_minor": 0,
  "metadata": {
    "colab": {
      "provenance": [],
      "toc_visible": true,
      "authorship_tag": "ABX9TyO9lOB27J9DtLZNr6K2qtyQ",
      "include_colab_link": true
    },
    "kernelspec": {
      "name": "python3",
      "display_name": "Python 3"
    },
    "language_info": {
      "name": "python"
    }
  },
  "cells": [
    {
      "cell_type": "markdown",
      "metadata": {
        "id": "view-in-github",
        "colab_type": "text"
      },
      "source": [
        "<a href=\"https://colab.research.google.com/github/kumarlalitss166/Colab-Notebooks/blob/main/test_Notebook.ipynb\" target=\"_parent\"><img src=\"https://colab.research.google.com/assets/colab-badge.svg\" alt=\"Open In Colab\"/></a>"
      ]
    },
    {
      "cell_type": "code",
      "execution_count": null,
      "metadata": {
        "id": "LJlbp9GOswPL"
      },
      "outputs": [],
      "source": [
        "print('hello lalit! hru?')"
      ]
    },
    {
      "cell_type": "code",
      "source": [
        "print('Its too late to sleep man :)')"
      ],
      "metadata": {
        "colab": {
          "base_uri": "https://localhost:8080/"
        },
        "id": "4gVlsNShucFi",
        "outputId": "badb420a-ede2-4e52-9a55-846901c087f8"
      },
      "execution_count": 2,
      "outputs": [
        {
          "output_type": "stream",
          "name": "stdout",
          "text": [
            "Its too late to sleep man :)\n"
          ]
        }
      ]
    },
    {
      "cell_type": "code",
      "source": [
        "print('I should go to sleep soon.')"
      ],
      "metadata": {
        "colab": {
          "base_uri": "https://localhost:8080/"
        },
        "id": "9R3E3fCcuwGX",
        "outputId": "c80c1f7e-b8f9-4dcd-a7e9-d2daf1a999f5"
      },
      "execution_count": 3,
      "outputs": [
        {
          "output_type": "stream",
          "name": "stdout",
          "text": [
            "I should go to sleep soon.\n"
          ]
        }
      ]
    },
    {
      "cell_type": "code",
      "source": [
        "print('I will sure :)')"
      ],
      "metadata": {
        "id": "ckki4Scru8xP",
        "outputId": "350cd00c-da56-4d7e-a7a8-03e2b9278a45",
        "colab": {
          "base_uri": "https://localhost:8080/"
        }
      },
      "execution_count": 4,
      "outputs": [
        {
          "output_type": "stream",
          "name": "stdout",
          "text": [
            "I will sure :)\n"
          ]
        }
      ]
    }
  ]
}